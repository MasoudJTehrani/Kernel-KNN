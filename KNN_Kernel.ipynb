{
  "nbformat": 4,
  "nbformat_minor": 0,
  "metadata": {
    "colab": {
      "name": "HW4_KNN_Kernel.ipynb",
      "provenance": [],
      "collapsed_sections": [],
      "toc_visible": true
    },
    "kernelspec": {
      "name": "python3",
      "display_name": "Python 3"
    },
    "language_info": {
      "name": "python"
    }
  },
  "cells": [
    {
      "cell_type": "markdown",
      "metadata": {
        "id": "a-gjvgxEivPk"
      },
      "source": [
        "# Importing libraries"
      ]
    },
    {
      "cell_type": "code",
      "metadata": {
        "id": "I7lzoCAWizTr"
      },
      "source": [
        "import numpy as np\n",
        "import matplotlib.pyplot as plt\n",
        "import pandas as pd\n",
        "from matplotlib import style\n",
        "style.use('fivethirtyeight')\n",
        "from sklearn.metrics import accuracy_score\n",
        "from sklearn.model_selection import train_test_split\n",
        "import math"
      ],
      "execution_count": null,
      "outputs": []
    },
    {
      "cell_type": "markdown",
      "metadata": {
        "id": "IVdb7XMVi7-2"
      },
      "source": [
        "# Importing datasets"
      ]
    },
    {
      "cell_type": "code",
      "metadata": {
        "id": "4kJ6EQc8jE4c"
      },
      "source": [
        "Diabetes = pd.read_csv('Diabetes.txt', header=None, sep=\"\\t\")\n",
        "Diabetes = Diabetes.drop(9, axis=1)\n",
        "\n",
        "Ionosphere = pd.read_csv('Ionosphere.txt', header=None)\n",
        "\n",
        "Sonar = pd.read_csv('Sonar.txt', header=None)\n",
        "\n",
        "Breast = pd.read_csv('BreastTissue.txt', header=None, sep=\"\\t\")\n",
        "\n",
        "Glass = pd.read_csv('Glass.txt', header=None, sep=\"\\t\")\n",
        "Glass = Glass.drop(10, axis=1)\n",
        "\n",
        "Wine = pd.read_csv('Wine.txt', header=None)\n"
      ],
      "execution_count": null,
      "outputs": []
    },
    {
      "cell_type": "markdown",
      "metadata": {
        "id": "kifFHhZXrR2a"
      },
      "source": [
        "# Functions"
      ]
    },
    {
      "cell_type": "code",
      "metadata": {
        "id": "KfGaSx_VrUvC"
      },
      "source": [
        "def getSplit(dataset):\n",
        "  X_train, X_test, y_train, y_test = train_test_split(dataset.iloc[:, :-1], dataset.iloc[:, -1], test_size = 0.3, shuffle=True)\n",
        "  train = pd.concat([X_train, y_train], axis =1)\n",
        "  test = pd.concat([X_test, y_test], axis =1)\n",
        "  return train,test"
      ],
      "execution_count": null,
      "outputs": []
    },
    {
      "cell_type": "code",
      "metadata": {
        "id": "OdFn5G2gsL1S"
      },
      "source": [
        "def oneNN(xi,xj):\n",
        "  xi = np.delete(xi, -1)\n",
        "  xj = np.delete(xj, -1)\n",
        "  subtract = xi - xj\n",
        "  return np.matmul(subtract,subtract)"
      ],
      "execution_count": null,
      "outputs": []
    },
    {
      "cell_type": "code",
      "metadata": {
        "id": "gYxmFtMmvFQK"
      },
      "source": [
        "def linearKernel(xi,xj):\n",
        "  xi = np.delete(xi, -1)\n",
        "  xj = np.delete(xj, -1)\n",
        "  return np.matmul(xi,xj)"
      ],
      "execution_count": null,
      "outputs": []
    },
    {
      "cell_type": "code",
      "metadata": {
        "id": "kKrDiV1-w_kN"
      },
      "source": [
        "def polyKernel(xi,xj,d):\n",
        "  xi = np.delete(xi, -1)\n",
        "  xj = np.delete(xj, -1)\n",
        "  return np.matmul(xi,xj)**d"
      ],
      "execution_count": null,
      "outputs": []
    },
    {
      "cell_type": "code",
      "metadata": {
        "id": "4SreuuLQyp87"
      },
      "source": [
        "def RBFkernel(xi,xj,landa):\n",
        "  xi = np.delete(xi, -1)\n",
        "  xj = np.delete(xj, -1)\n",
        "  subtract = xi - xj\n",
        "  return np.exp(landa*math.sqrt(np.matmul(subtract,subtract)))"
      ],
      "execution_count": null,
      "outputs": []
    },
    {
      "cell_type": "markdown",
      "metadata": {
        "id": "gUT75cWCjhP9"
      },
      "source": [
        "# 1NN classifier\n",
        "\n",
        "\n"
      ]
    },
    {
      "cell_type": "markdown",
      "metadata": {
        "id": "JpjQlXo1te8U"
      },
      "source": [
        "## Glass"
      ]
    },
    {
      "cell_type": "code",
      "metadata": {
        "colab": {
          "base_uri": "https://localhost:8080/"
        },
        "id": "UZPjM4-OjmpM",
        "outputId": "797c3390-fc24-4c53-84a3-904edfd4a6b4"
      },
      "source": [
        "accuracy = []\n",
        "for R in range(10):\n",
        "  Rlabel = 0\n",
        "  labels = []\n",
        "  train_ds, test_ds = getSplit(Glass)\n",
        "  for test in test_ds.values:\n",
        "    min = 100000\n",
        "    for train in train_ds.values:\n",
        "      sum = oneNN(train,test)\n",
        "      if sum < min:\n",
        "        Rlabel = train[-1]\n",
        "        min = sum\n",
        "    labels.append(Rlabel)\n",
        "  accuracy.append(accuracy_score(test_ds.iloc[:,-1], labels))\n",
        "print(\"\\t\\t\\t1NN for Glass\")\n",
        "print(\"\\t\\t\\t   %.2f%%\" %(np.mean(accuracy)*100))"
      ],
      "execution_count": null,
      "outputs": [
        {
          "output_type": "stream",
          "text": [
            "\t\t\t1NN for Glass\n",
            "\t\t\t   72.31%\n"
          ],
          "name": "stdout"
        }
      ]
    },
    {
      "cell_type": "markdown",
      "metadata": {
        "id": "PWJg36hlti6i"
      },
      "source": [
        "##Wine"
      ]
    },
    {
      "cell_type": "code",
      "metadata": {
        "colab": {
          "base_uri": "https://localhost:8080/"
        },
        "id": "8a2fuK5pu19K",
        "outputId": "73f7994c-83ae-4f81-d018-cbd28d464dff"
      },
      "source": [
        "accuracy = []\n",
        "for R in range(10):\n",
        "  Rlabel = 0\n",
        "  labels = []\n",
        "  train_ds, test_ds = getSplit(Wine)\n",
        "  for test in test_ds.values:\n",
        "    min = 100000\n",
        "    for train in train_ds.values:\n",
        "      sum = oneNN(train,test)\n",
        "      if sum < min:\n",
        "        Rlabel = train[-1]\n",
        "        min = sum\n",
        "    labels.append(Rlabel)\n",
        "  accuracy.append(accuracy_score(test_ds.iloc[:,-1], labels))\n",
        "print(\"\\t\\t\\t1NN for Wine\")\n",
        "print(\"\\t\\t\\t   %.2f%%\" %(np.mean(accuracy)*100))"
      ],
      "execution_count": null,
      "outputs": [
        {
          "output_type": "stream",
          "text": [
            "\t\t\t1NN for Wine\n",
            "\t\t\t   76.30%\n"
          ],
          "name": "stdout"
        }
      ]
    },
    {
      "cell_type": "markdown",
      "metadata": {
        "id": "za-2dLv9tleS"
      },
      "source": [
        "## Diabetes"
      ]
    },
    {
      "cell_type": "code",
      "metadata": {
        "colab": {
          "base_uri": "https://localhost:8080/"
        },
        "id": "csUHlx8Hu5VI",
        "outputId": "ec1146c2-19a5-422a-c1d7-087b65e61239"
      },
      "source": [
        "accuracy = []\n",
        "for R in range(10):\n",
        "  Rlabel = 0\n",
        "  labels = []\n",
        "  train_ds, test_ds = getSplit(Diabetes)\n",
        "  for test in test_ds.values:\n",
        "    min = 100000\n",
        "    for train in train_ds.values:\n",
        "      sum = oneNN(train,test)\n",
        "      if sum < min:\n",
        "        Rlabel = train[-1]\n",
        "        min = sum\n",
        "    labels.append(Rlabel)\n",
        "  accuracy.append(accuracy_score(test_ds.iloc[:,-1], labels))\n",
        "print(\"\\t\\t\\t1NN for Diabetes\")\n",
        "print(\"\\t\\t\\t   %.2f%%\" %(np.mean(accuracy)*100))"
      ],
      "execution_count": null,
      "outputs": [
        {
          "output_type": "stream",
          "text": [
            "\t\t\t1NN for Diabetes\n",
            "\t\t\t   70.13%\n"
          ],
          "name": "stdout"
        }
      ]
    },
    {
      "cell_type": "markdown",
      "metadata": {
        "id": "tms9YKAfupJC"
      },
      "source": [
        "## Ionosphere"
      ]
    },
    {
      "cell_type": "code",
      "metadata": {
        "colab": {
          "base_uri": "https://localhost:8080/"
        },
        "id": "mY4xlckvu9Ww",
        "outputId": "cb6c324f-a2db-411c-8d2f-3643f6b71740"
      },
      "source": [
        "accuracy = []\n",
        "for R in range(10):\n",
        "  Rlabel = 0\n",
        "  labels = []\n",
        "  train_ds, test_ds = getSplit(Ionosphere)\n",
        "  for test in test_ds.values:\n",
        "    min = 100000\n",
        "    for train in train_ds.values:\n",
        "      sum = oneNN(train,test)\n",
        "      if sum < min:\n",
        "        Rlabel = train[-1]\n",
        "        min = sum\n",
        "    labels.append(Rlabel)\n",
        "  accuracy.append(accuracy_score(test_ds.iloc[:,-1], labels))\n",
        "print(\"\\t\\t\\t1NN for Ionosphere\")\n",
        "print(\"\\t\\t\\t   %.2f%%\" %(np.mean(accuracy)*100))"
      ],
      "execution_count": null,
      "outputs": [
        {
          "output_type": "stream",
          "text": [
            "\t\t\t1NN for Ionosphere\n",
            "\t\t\t   86.51%\n"
          ],
          "name": "stdout"
        }
      ]
    },
    {
      "cell_type": "markdown",
      "metadata": {
        "id": "TVkZdG88usZR"
      },
      "source": [
        "## BreastTissue"
      ]
    },
    {
      "cell_type": "code",
      "metadata": {
        "colab": {
          "base_uri": "https://localhost:8080/"
        },
        "id": "_KKRJ7CrvE8A",
        "outputId": "9e8efe5f-c277-400b-8d95-3e3b6dc1845e"
      },
      "source": [
        "accuracy = []\n",
        "for R in range(10):\n",
        "  Rlabel = 0\n",
        "  labels = []\n",
        "  train_ds, test_ds = getSplit(Breast)\n",
        "  for test in test_ds.values:\n",
        "    min = 100000\n",
        "    for train in train_ds.values:\n",
        "      sum = oneNN(train,test)\n",
        "      if sum < min:\n",
        "        Rlabel = train[-1]\n",
        "        min = sum\n",
        "    labels.append(Rlabel)\n",
        "  accuracy.append(accuracy_score(test_ds.iloc[:,-1], labels))\n",
        "print(\"\\t\\t\\t1NN for Breast\")\n",
        "print(\"\\t\\t\\t   %.2f%%\" %(np.mean(accuracy)*100))"
      ],
      "execution_count": null,
      "outputs": [
        {
          "output_type": "stream",
          "text": [
            "\t\t\t1NN for Breast\n",
            "\t\t\t   35.31%\n"
          ],
          "name": "stdout"
        }
      ]
    },
    {
      "cell_type": "markdown",
      "metadata": {
        "id": "ZCxUoGk5uw5B"
      },
      "source": [
        "## Sonar"
      ]
    },
    {
      "cell_type": "code",
      "metadata": {
        "colab": {
          "base_uri": "https://localhost:8080/"
        },
        "id": "qPyB8izUvH3Y",
        "outputId": "83ba28c1-2433-4373-a4af-0d0f91fe2711"
      },
      "source": [
        "accuracy = []\n",
        "for R in range(10):\n",
        "  Rlabel = 0\n",
        "  labels = []\n",
        "  train_ds, test_ds = getSplit(Sonar)\n",
        "  for test in test_ds.values:\n",
        "    min = 100000\n",
        "    for train in train_ds.values:\n",
        "      sum = oneNN(train,test)\n",
        "      if sum < min:\n",
        "        Rlabel = train[-1]\n",
        "        min = sum\n",
        "    labels.append(Rlabel)\n",
        "  accuracy.append(accuracy_score(test_ds.iloc[:,-1], labels))\n",
        "print(\"\\t\\t\\t1NN for Sonar\")\n",
        "print(\"\\t\\t\\t   %.2f%%\" %(np.mean(accuracy)*100))"
      ],
      "execution_count": null,
      "outputs": [
        {
          "output_type": "stream",
          "text": [
            "\t\t\t1NN for Sonar\n",
            "\t\t\t   80.79%\n"
          ],
          "name": "stdout"
        }
      ]
    },
    {
      "cell_type": "markdown",
      "metadata": {
        "id": "o-GkQYVWw9YU"
      },
      "source": [
        "# Linear Kernel"
      ]
    },
    {
      "cell_type": "markdown",
      "metadata": {
        "id": "kktYpivExD7o"
      },
      "source": [
        "## Glass"
      ]
    },
    {
      "cell_type": "code",
      "metadata": {
        "colab": {
          "base_uri": "https://localhost:8080/"
        },
        "id": "lP81rTGexGGR",
        "outputId": "2bab5635-84cf-4485-e03a-6081f376e0cb"
      },
      "source": [
        "accuracy = []\n",
        "for R in range(10):\n",
        "  Rlabel = 0\n",
        "  labels = []\n",
        "  train_ds, test_ds = getSplit(Glass)\n",
        "  for test in test_ds.values:\n",
        "    min = 1000000\n",
        "    for train in train_ds.values:\n",
        "      sum = np.sum([ ((test[i] * test[i]) + (train[i] * train[i]) - (2 * (test[i] * train[i]))) for i in range(len(test_ds.columns)-1) ])\n",
        "      if sum < min:\n",
        "        Rlabel = train[-1]\n",
        "        min = sum\n",
        "    labels.append(Rlabel)\n",
        "  accuracy.append(accuracy_score(test_ds.iloc[:,-1], labels))\n",
        "print(\"\\t\\t\\tLinear Kernel for Glass\")\n",
        "print(\"\\t\\t\\t\\t%.2f%%\" %(np.mean(accuracy)*100))"
      ],
      "execution_count": null,
      "outputs": [
        {
          "output_type": "stream",
          "text": [
            "\t\t\tLinear Kernel for Glass\n",
            "\t\t\t\t71.08%\n"
          ],
          "name": "stdout"
        }
      ]
    },
    {
      "cell_type": "markdown",
      "metadata": {
        "id": "ADcIIt1R1yXP"
      },
      "source": [
        "## Wine"
      ]
    },
    {
      "cell_type": "code",
      "metadata": {
        "colab": {
          "base_uri": "https://localhost:8080/"
        },
        "id": "zVFWQfW812K-",
        "outputId": "07f21d82-4bde-4fca-8daf-946c33f414fe"
      },
      "source": [
        "accuracy = []\n",
        "for R in range(10):\n",
        "  Rlabel = 0\n",
        "  labels = []\n",
        "  train_ds, test_ds = getSplit(Wine)\n",
        "  for test in test_ds.values:\n",
        "    min = 1000000\n",
        "    for train in train_ds.values:\n",
        "      sum = np.sum([ ((test[i] * test[i]) + (train[i] * train[i]) - (2 * (test[i] * train[i]))) for i in range(len(test_ds.columns)-1) ])\n",
        "      if sum < min:\n",
        "        Rlabel = train[-1]\n",
        "        min = sum\n",
        "    labels.append(Rlabel)\n",
        "  accuracy.append(accuracy_score(test_ds.iloc[:,-1], labels))\n",
        "print(\"\\t\\t\\tLinear kernel for Wine\")\n",
        "print(\"\\t\\t\\t\\t%.2f%%\" %(np.mean(accuracy)*100))"
      ],
      "execution_count": null,
      "outputs": [
        {
          "output_type": "stream",
          "text": [
            "\t\t\tLinear kernel for Wine\n",
            "\t\t\t\t73.89%\n"
          ],
          "name": "stdout"
        }
      ]
    },
    {
      "cell_type": "markdown",
      "metadata": {
        "id": "TnhozosA3J8D"
      },
      "source": [
        "## Diabetes"
      ]
    },
    {
      "cell_type": "code",
      "metadata": {
        "colab": {
          "base_uri": "https://localhost:8080/"
        },
        "id": "gqV44jSi3QJA",
        "outputId": "879060de-f748-438b-f035-4fb49bd39ef2"
      },
      "source": [
        "accuracy = []\n",
        "for R in range(10):\n",
        "  Rlabel = 0\n",
        "  labels = []\n",
        "  train_ds, test_ds = getSplit(Diabetes)\n",
        "  for test in test_ds.values:\n",
        "    min = 1000000\n",
        "    for train in train_ds.values:\n",
        "      sum = np.sum([ ((test[i] * test[i]) + (train[i] * train[i]) - (2 * (test[i] * train[i]))) for i in range(len(test_ds.columns)-1) ])\n",
        "      if sum < min:\n",
        "        Rlabel = train[-1]\n",
        "        min = sum\n",
        "    labels.append(Rlabel)\n",
        "  accuracy.append(accuracy_score(test_ds.iloc[:,-1], labels))\n",
        "print(\"\\t\\t\\tLinear kernel for Diabetes\")\n",
        "print(\"\\t\\t\\t\\t%.2f%%\" %(np.mean(accuracy)*100))"
      ],
      "execution_count": null,
      "outputs": [
        {
          "output_type": "stream",
          "text": [
            "\t\t\tLinear kernel for Diabetes\n",
            "\t\t\t\t70.48%\n"
          ],
          "name": "stdout"
        }
      ]
    },
    {
      "cell_type": "markdown",
      "metadata": {
        "id": "OO2SyelY3TUP"
      },
      "source": [
        "## Ionosphere"
      ]
    },
    {
      "cell_type": "code",
      "metadata": {
        "colab": {
          "base_uri": "https://localhost:8080/"
        },
        "id": "01i6jEqE3Vy1",
        "outputId": "4631cc2a-7008-4346-8a04-04c27d345e09"
      },
      "source": [
        "accuracy = []\n",
        "for R in range(10):\n",
        "  Rlabel = 0\n",
        "  labels = []\n",
        "  train_ds, test_ds = getSplit(Ionosphere)\n",
        "  for test in test_ds.values:\n",
        "    min = 1000000\n",
        "    for train in train_ds.values:\n",
        "      sum = np.sum([ ((test[i] * test[i]) + (train[i] * train[i]) - (2 * (test[i] * train[i]))) for i in range(len(test_ds.columns)-1) ])\n",
        "      if sum < min:\n",
        "        Rlabel = train[-1]\n",
        "        min = sum\n",
        "    labels.append(Rlabel)\n",
        "  accuracy.append(accuracy_score(test_ds.iloc[:,-1], labels))\n",
        "print(\"\\t\\t\\tLinear kernel for Ionosphere\")\n",
        "print(\"\\t\\t\\t\\t%.2f%%\" %(np.mean(accuracy)*100))"
      ],
      "execution_count": null,
      "outputs": [
        {
          "output_type": "stream",
          "text": [
            "\t\t\tLinear kernel for Ionosphere\n",
            "\t\t\t\t86.98%\n"
          ],
          "name": "stdout"
        }
      ]
    },
    {
      "cell_type": "markdown",
      "metadata": {
        "id": "qpU_4KmV3ZBX"
      },
      "source": [
        "## BreatTissue"
      ]
    },
    {
      "cell_type": "code",
      "metadata": {
        "colab": {
          "base_uri": "https://localhost:8080/"
        },
        "id": "Ly3ZWYmU3b7O",
        "outputId": "00347399-9069-4c24-a27d-0c44be4c758e"
      },
      "source": [
        "accuracy = []\n",
        "for R in range(10):\n",
        "  Rlabel = 0\n",
        "  labels = []\n",
        "  train_ds, test_ds = getSplit(Breast)\n",
        "  for test in test_ds.values:\n",
        "    min = 1000000\n",
        "    for train in train_ds.values:\n",
        "      sum = np.sum([ ((test[i] * test[i]) + (train[i] * train[i]) - (2 * (test[i] * train[i]))) for i in range(len(test_ds.columns)-1) ])\n",
        "      if sum < min:\n",
        "        Rlabel = train[-1]\n",
        "        min = sum\n",
        "    labels.append(Rlabel)\n",
        "  accuracy.append(accuracy_score(test_ds.iloc[:,-1], labels))\n",
        "print(\"\\t\\t\\tLinear kernel for Breast\")\n",
        "print(\"\\t\\t\\t\\t%.2f%%\" %(np.mean(accuracy)*100))"
      ],
      "execution_count": null,
      "outputs": [
        {
          "output_type": "stream",
          "text": [
            "\t\t\tLinear kernel for Breast\n",
            "\t\t\t\t46.56%\n"
          ],
          "name": "stdout"
        }
      ]
    },
    {
      "cell_type": "markdown",
      "metadata": {
        "id": "zP5PCh6i3eaw"
      },
      "source": [
        "## Sonar"
      ]
    },
    {
      "cell_type": "code",
      "metadata": {
        "colab": {
          "base_uri": "https://localhost:8080/"
        },
        "id": "ZX6qur_s3hmQ",
        "outputId": "bad7644b-cc23-4362-c5ae-31a712f5880d"
      },
      "source": [
        "accuracy = []\n",
        "for R in range(10):\n",
        "  Rlabel = 0\n",
        "  labels = []\n",
        "  train_ds, test_ds = getSplit(Sonar)\n",
        "  for test in test_ds.values:\n",
        "    min = 1000000\n",
        "    for train in train_ds.values:\n",
        "      sum = np.sum([ ((test[i] * test[i]) + (train[i] * train[i]) - (2 * (test[i] * train[i]))) for i in range(len(test_ds.columns)-1) ])\n",
        "      if sum < min:\n",
        "        Rlabel = train[-1]\n",
        "        min = sum\n",
        "    labels.append(Rlabel)\n",
        "  accuracy.append(accuracy_score(test_ds.iloc[:,-1], labels))\n",
        "print(\"\\t\\t\\tLinear kernel for Sonar\")\n",
        "print(\"\\t\\t\\t\\t%.2f%%\" %(np.mean(accuracy)*100))"
      ],
      "execution_count": null,
      "outputs": [
        {
          "output_type": "stream",
          "text": [
            "\t\t\tLinear kernel for Sonar\n",
            "\t\t\t\t79.21%\n"
          ],
          "name": "stdout"
        }
      ]
    },
    {
      "cell_type": "markdown",
      "metadata": {
        "id": "thgZaADU7BKg"
      },
      "source": [
        "# Polynomial kernel"
      ]
    },
    {
      "cell_type": "markdown",
      "metadata": {
        "id": "teNMf-H8qg3z"
      },
      "source": [
        "## d = 1"
      ]
    },
    {
      "cell_type": "markdown",
      "metadata": {
        "id": "Imc5AEV3qg30"
      },
      "source": [
        "### Glass"
      ]
    },
    {
      "cell_type": "code",
      "metadata": {
        "colab": {
          "base_uri": "https://localhost:8080/"
        },
        "id": "cUQ08_3oqg30",
        "outputId": "2430c77e-ae88-43b2-de7e-602ac0a23981"
      },
      "source": [
        "accuracy = []\n",
        "d = 1\n",
        "for R in range(10):\n",
        "  Rlabel = 0\n",
        "  labels = []\n",
        "  train_ds, test_ds = getSplit(Glass)\n",
        "  for test in test_ds.values:\n",
        "    min = 100000000\n",
        "    for train in train_ds.values:\n",
        "      sum = np.sum([ ( ((test[i] * test[i])**d) + ((train[i] * train[i])**d) - (2*((test[i] * train[i])**d))  ) for i in range(len(test_ds.columns)-1) ])\n",
        "      if sum < min:\n",
        "        Rlabel = train[-1]\n",
        "        min = sum\n",
        "    labels.append(Rlabel)\n",
        "  accuracy.append(accuracy_score(test_ds.iloc[:,-1], labels))\n",
        "print(\"\\t\\t\\tPolynomial kernel d=1 for Glass\")\n",
        "print(\"\\t\\t\\t\\t\\t%.2f%%\" %(np.mean(accuracy)*100))"
      ],
      "execution_count": null,
      "outputs": [
        {
          "output_type": "stream",
          "text": [
            "\t\t\tPolynomial kernel d=2 for Glass\n",
            "\t\t\t\t\t71.54%\n"
          ],
          "name": "stdout"
        }
      ]
    },
    {
      "cell_type": "markdown",
      "metadata": {
        "id": "slkEc4IMqg3-"
      },
      "source": [
        "### Wine"
      ]
    },
    {
      "cell_type": "code",
      "metadata": {
        "colab": {
          "base_uri": "https://localhost:8080/"
        },
        "id": "nd_B5dRkqg3-",
        "outputId": "d95c9a72-a67e-4956-9aec-a1dafadd9041"
      },
      "source": [
        "accuracy = []\n",
        "d = 1\n",
        "for R in range(10):\n",
        "  Rlabel = 0\n",
        "  labels = []\n",
        "  train_ds, test_ds = getSplit(Wine)\n",
        "  for test in test_ds.values:\n",
        "    min = 100000000\n",
        "    for train in train_ds.values:\n",
        "      sum = np.sum([ ( ((test[i] * test[i])**d) + ((train[i] * train[i])**d) - (2*((test[i] * train[i])**d))  ) for i in range(len(test_ds.columns)-1) ])\n",
        "      if sum < min:\n",
        "        Rlabel = train[-1]\n",
        "        min = sum\n",
        "    labels.append(Rlabel)\n",
        "  accuracy.append(accuracy_score(test_ds.iloc[:,-1], labels))\n",
        "print(\"\\t\\t\\tPolynomial kernel d=1 for Wine\")\n",
        "print(\"\\t\\t\\t\\t\\t%.2f%%\" %(np.mean(accuracy)*100))"
      ],
      "execution_count": null,
      "outputs": [
        {
          "output_type": "stream",
          "text": [
            "\t\t\tPolynomial kernel d=2 for Wine\n",
            "\t\t\t\t\t72.96%\n"
          ],
          "name": "stdout"
        }
      ]
    },
    {
      "cell_type": "markdown",
      "metadata": {
        "id": "ZtxMu3ljqg3_"
      },
      "source": [
        "### Diabetes"
      ]
    },
    {
      "cell_type": "code",
      "metadata": {
        "colab": {
          "base_uri": "https://localhost:8080/"
        },
        "id": "9isordZXqg3_",
        "outputId": "b6b074d3-5309-4c7e-936a-b13722f89cfd"
      },
      "source": [
        "accuracy = []\n",
        "d = 1\n",
        "for R in range(10):\n",
        "  Rlabel = 0\n",
        "  labels = []\n",
        "  train_ds, test_ds = getSplit(Diabetes)\n",
        "  for test in test_ds.values:\n",
        "    min = 100000000\n",
        "    for train in train_ds.values:\n",
        "      sum = np.sum([ ( ((test[i] * test[i])**d) + ((train[i] * train[i])**d) - (2*((test[i] * train[i])**d))  ) for i in range(len(test_ds.columns)-1) ])\n",
        "      if sum < min:\n",
        "        Rlabel = train[-1]\n",
        "        min = sum\n",
        "    labels.append(Rlabel)\n",
        "  accuracy.append(accuracy_score(test_ds.iloc[:,-1], labels))\n",
        "print(\"\\t\\t\\tPolynomial kernel d=1 for Diabetes\")\n",
        "print(\"\\t\\t\\t\\t\\t%.2f%%\" %(np.mean(accuracy)*100))"
      ],
      "execution_count": null,
      "outputs": [
        {
          "output_type": "stream",
          "text": [
            "\t\t\tPolynomial kernel d=2 for Diabetes\n",
            "\t\t\t\t\t70.69%\n"
          ],
          "name": "stdout"
        }
      ]
    },
    {
      "cell_type": "markdown",
      "metadata": {
        "id": "UMID-Ugeqg4A"
      },
      "source": [
        "### Ionosphere"
      ]
    },
    {
      "cell_type": "code",
      "metadata": {
        "colab": {
          "base_uri": "https://localhost:8080/"
        },
        "id": "rsewIaEsqg4A",
        "outputId": "936b88f5-d3be-400d-e53d-a65d44d44e8c"
      },
      "source": [
        "accuracy = []\n",
        "d = 1\n",
        "for R in range(10):\n",
        "  Rlabel = 0\n",
        "  labels = []\n",
        "  train_ds, test_ds = getSplit(Ionosphere)\n",
        "  for test in test_ds.values:\n",
        "    min = 100000000\n",
        "    for train in train_ds.values:\n",
        "      sum = np.sum([ ( ((test[i] * test[i])**d) + ((train[i] * train[i])**d) - (2*((test[i] * train[i])**d))  ) for i in range(len(test_ds.columns)-1) ])\n",
        "      if sum < min:\n",
        "        Rlabel = train[-1]\n",
        "        min = sum\n",
        "    labels.append(Rlabel)\n",
        "  accuracy.append(accuracy_score(test_ds.iloc[:,-1], labels))\n",
        "print(\"\\t\\t\\tPolynomial kernel d=1 for Ionosphere\")\n",
        "print(\"\\t\\t\\t\\t%.2f%%\" %(np.mean(accuracy)*100))"
      ],
      "execution_count": null,
      "outputs": [
        {
          "output_type": "stream",
          "text": [
            "\t\t\tPolynomial kernel d=2 for Ionosphere\n",
            "\t\t\t\t87.08%\n"
          ],
          "name": "stdout"
        }
      ]
    },
    {
      "cell_type": "markdown",
      "metadata": {
        "id": "RSRu3VNOqg4A"
      },
      "source": [
        "### BreastTissue"
      ]
    },
    {
      "cell_type": "code",
      "metadata": {
        "colab": {
          "base_uri": "https://localhost:8080/"
        },
        "id": "1ianriPSqg4B",
        "outputId": "8c7bd6ce-1452-44d9-a910-6c53514c724d"
      },
      "source": [
        "accuracy = []\n",
        "d = 1\n",
        "for R in range(10):\n",
        "  Rlabel = 0\n",
        "  labels = []\n",
        "  train_ds, test_ds = getSplit(Breast)\n",
        "  for test in test_ds.values:\n",
        "    min = 100000000\n",
        "    for train in train_ds.values:\n",
        "      sum = np.sum([ ( ((test[i] * test[i])**d) + ((train[i] * train[i])**d) - (2*((test[i] * train[i])**d))  ) for i in range(len(test_ds.columns)-1) ])\n",
        "      if sum < min:\n",
        "        Rlabel = train[-1]\n",
        "        min = sum\n",
        "    labels.append(Rlabel)\n",
        "  accuracy.append(accuracy_score(test_ds.iloc[:,-1], labels))\n",
        "print(\"\\t\\t\\tPolynomial kernel d=1 for Breast\")\n",
        "print(\"\\t\\t\\t\\t\\t%.2f%%\" %(np.mean(accuracy)*100))"
      ],
      "execution_count": null,
      "outputs": [
        {
          "output_type": "stream",
          "text": [
            "\t\t\tPolynomial kernel d=2 for Breast\n",
            "\t\t\t\t\t55.94%\n"
          ],
          "name": "stdout"
        }
      ]
    },
    {
      "cell_type": "markdown",
      "metadata": {
        "id": "bjPYW0X9qg4B"
      },
      "source": [
        "### Sonar"
      ]
    },
    {
      "cell_type": "code",
      "metadata": {
        "colab": {
          "base_uri": "https://localhost:8080/"
        },
        "id": "Ez3yl96Zqg4C",
        "outputId": "a1e03127-e6e7-46b3-f8e2-c3703e958a6d"
      },
      "source": [
        "accuracy = []\n",
        "d = 1\n",
        "for R in range(10):\n",
        "  Rlabel = 0\n",
        "  labels = []\n",
        "  train_ds, test_ds = getSplit(Sonar)\n",
        "  for test in test_ds.values:\n",
        "    min = 100000000\n",
        "    for train in train_ds.values:\n",
        "      sum = np.sum([ ( ((test[i] * test[i])**d) + ((train[i] * train[i])**d) - (2*((test[i] * train[i])**d))  ) for i in range(len(test_ds.columns)-1) ])\n",
        "      if sum < min:\n",
        "        Rlabel = train[-1]\n",
        "        min = sum\n",
        "    labels.append(Rlabel)\n",
        "  accuracy.append(accuracy_score(test_ds.iloc[:,-1], labels))\n",
        "print(\"\\t\\t\\tPolynomial kernel d=1 for Sonar\")\n",
        "print(\"\\t\\t\\t\\t\\t%.2f%%\" %(np.mean(accuracy)*100))"
      ],
      "execution_count": null,
      "outputs": [
        {
          "output_type": "stream",
          "text": [
            "\t\t\tPolynomial kernel d=2 for Sonar\n",
            "\t\t\t\t\t80.48%\n"
          ],
          "name": "stdout"
        }
      ]
    },
    {
      "cell_type": "markdown",
      "metadata": {
        "id": "PPjRZpqR9AwA"
      },
      "source": [
        "## d = 2"
      ]
    },
    {
      "cell_type": "markdown",
      "metadata": {
        "id": "KBiGJp2B9DuX"
      },
      "source": [
        "### Glass"
      ]
    },
    {
      "cell_type": "code",
      "metadata": {
        "colab": {
          "base_uri": "https://localhost:8080/"
        },
        "id": "uQvJ-VMv9GZV",
        "outputId": "05addae9-bca8-45cb-dc2d-abbed4f2bb4c"
      },
      "source": [
        "accuracy = []\n",
        "d = 2\n",
        "for R in range(10):\n",
        "  Rlabel = 0\n",
        "  labels = []\n",
        "  train_ds, test_ds = getSplit(Glass)\n",
        "  for test in test_ds.values:\n",
        "    min = 100000000\n",
        "    for train in train_ds.values:\n",
        "      sum = np.sum([ ( ((test[i] * test[i])**d) + ((train[i] * train[i])**d) - (2*((test[i] * train[i])**d))  ) for i in range(len(test_ds.columns)-1) ])\n",
        "      if sum < min:\n",
        "        Rlabel = train[-1]\n",
        "        min = sum\n",
        "    labels.append(Rlabel)\n",
        "  accuracy.append(accuracy_score(test_ds.iloc[:,-1], labels))\n",
        "print(\"\\t\\t\\tPolynomial kernel d=2 for Glass\")\n",
        "print(\"\\t\\t\\t\\t\\t%.2f%%\" %(np.mean(accuracy)*100))"
      ],
      "execution_count": null,
      "outputs": [
        {
          "output_type": "stream",
          "text": [
            "\t\t\tPolynomial kernel d=2 for Glass\n",
            "\t\t\t\t\t55.69%\n"
          ],
          "name": "stdout"
        }
      ]
    },
    {
      "cell_type": "markdown",
      "metadata": {
        "id": "1rKl0lnL-1rn"
      },
      "source": [
        "### Wine"
      ]
    },
    {
      "cell_type": "code",
      "metadata": {
        "colab": {
          "base_uri": "https://localhost:8080/"
        },
        "id": "9y-krRUl-5S0",
        "outputId": "1e503a28-a5a4-4b58-b570-1b875bfb1d80"
      },
      "source": [
        "accuracy = []\n",
        "d = 2\n",
        "for R in range(10):\n",
        "  Rlabel = 0\n",
        "  labels = []\n",
        "  train_ds, test_ds = getSplit(Wine)\n",
        "  for test in test_ds.values:\n",
        "    min = 100000000\n",
        "    for train in train_ds.values:\n",
        "      sum = np.sum([ ( ((test[i] * test[i])**d) + ((train[i] * train[i])**d) - (2*((test[i] * train[i])**d))  ) for i in range(len(test_ds.columns)-1) ])\n",
        "      if sum < min:\n",
        "        Rlabel = train[-1]\n",
        "        min = sum\n",
        "    labels.append(Rlabel)\n",
        "  accuracy.append(accuracy_score(test_ds.iloc[:,-1], labels))\n",
        "print(\"\\t\\t\\tPolynomial kernel d=2 for Wine\")\n",
        "print(\"\\t\\t\\t\\t\\t%.2f%%\" %(np.mean(accuracy)*100))"
      ],
      "execution_count": null,
      "outputs": [
        {
          "output_type": "stream",
          "text": [
            "\t\t\tPolynomial kernel d=2 for Wine\n",
            "\t\t\t\t\t50.93%\n"
          ],
          "name": "stdout"
        }
      ]
    },
    {
      "cell_type": "markdown",
      "metadata": {
        "id": "H7UBpqH7-7ll"
      },
      "source": [
        "### Diabetes"
      ]
    },
    {
      "cell_type": "code",
      "metadata": {
        "colab": {
          "base_uri": "https://localhost:8080/"
        },
        "id": "ln6BgGmW-963",
        "outputId": "4d442c74-263d-4b70-8e34-b05b5235f766"
      },
      "source": [
        "accuracy = []\n",
        "d = 2\n",
        "for R in range(10):\n",
        "  Rlabel = 0\n",
        "  labels = []\n",
        "  train_ds, test_ds = getSplit(Diabetes)\n",
        "  for test in test_ds.values:\n",
        "    min = 100000000\n",
        "    for train in train_ds.values:\n",
        "      sum = np.sum([ ( ((test[i] * test[i])**d) + ((train[i] * train[i])**d) - (2*((test[i] * train[i])**d))  ) for i in range(len(test_ds.columns)-1) ])\n",
        "      if sum < min:\n",
        "        Rlabel = train[-1]\n",
        "        min = sum\n",
        "    labels.append(Rlabel)\n",
        "  accuracy.append(accuracy_score(test_ds.iloc[:,-1], labels))\n",
        "print(\"\\t\\t\\tPolynomial kernel d=2 for Diabetes\")\n",
        "print(\"\\t\\t\\t\\t\\t%.2f%%\" %(np.mean(accuracy)*100))"
      ],
      "execution_count": null,
      "outputs": [
        {
          "output_type": "stream",
          "text": [
            "\t\t\tPolynomial kernel d=2 for Diabetes\n",
            "\t\t\t\t\t63.20%\n"
          ],
          "name": "stdout"
        }
      ]
    },
    {
      "cell_type": "markdown",
      "metadata": {
        "id": "2WpbjHrU_AcW"
      },
      "source": [
        "### Ionosphere"
      ]
    },
    {
      "cell_type": "code",
      "metadata": {
        "colab": {
          "base_uri": "https://localhost:8080/"
        },
        "id": "d-OX55-P_C1U",
        "outputId": "0ba5b802-1ab2-40bd-b4a5-9ac6e7fdcfa5"
      },
      "source": [
        "accuracy = []\n",
        "d = 2\n",
        "for R in range(10):\n",
        "  Rlabel = 0\n",
        "  labels = []\n",
        "  train_ds, test_ds = getSplit(Ionosphere)\n",
        "  for test in test_ds.values:\n",
        "    min = 100000000\n",
        "    for train in train_ds.values:\n",
        "      sum = np.sum([ ( ((test[i] * test[i])**d) + ((train[i] * train[i])**d) - (2*((test[i] * train[i])**d))  ) for i in range(len(test_ds.columns)-1) ])\n",
        "      if sum < min:\n",
        "        Rlabel = train[-1]\n",
        "        min = sum\n",
        "    labels.append(Rlabel)\n",
        "  accuracy.append(accuracy_score(test_ds.iloc[:,-1], labels))\n",
        "print(\"\\t\\t\\tPolynomial kernel d=2 for Ionosphere\")\n",
        "print(\"\\t\\t\\t\\t%.2f%%\" %(np.mean(accuracy)*100))"
      ],
      "execution_count": null,
      "outputs": [
        {
          "output_type": "stream",
          "text": [
            "\t\t\tPolynomial kernel d=2 for Ionosphere\n",
            "\t\t\t\t87.92%\n"
          ],
          "name": "stdout"
        }
      ]
    },
    {
      "cell_type": "markdown",
      "metadata": {
        "id": "cWaHCP5O_HsZ"
      },
      "source": [
        "### BreastTissue"
      ]
    },
    {
      "cell_type": "code",
      "metadata": {
        "colab": {
          "base_uri": "https://localhost:8080/"
        },
        "id": "PUSZO7qe_KM7",
        "outputId": "3d337d3e-2f43-40b5-9517-a21651ce23ce"
      },
      "source": [
        "accuracy = []\n",
        "d = 2\n",
        "for R in range(10):\n",
        "  Rlabel = 0\n",
        "  labels = []\n",
        "  train_ds, test_ds = getSplit(Breast)\n",
        "  for test in test_ds.values:\n",
        "    min = 100000000\n",
        "    for train in train_ds.values:\n",
        "      sum = np.sum([ ( ((test[i] * test[i])**d) + ((train[i] * train[i])**d) - (2*((test[i] * train[i])**d))  ) for i in range(len(test_ds.columns)-1) ])\n",
        "      if sum < min:\n",
        "        Rlabel = train[-1]\n",
        "        min = sum\n",
        "    labels.append(Rlabel)\n",
        "  accuracy.append(accuracy_score(test_ds.iloc[:,-1], labels))\n",
        "print(\"\\t\\t\\tPolynomial kernel d=2 for Breast\")\n",
        "print(\"\\t\\t\\t\\t\\t%.2f%%\" %(np.mean(accuracy)*100))"
      ],
      "execution_count": null,
      "outputs": [
        {
          "output_type": "stream",
          "text": [
            "\t\t\tPolynomial kernel d=2 for Breast\n",
            "\t\t\t\t\t9.69%\n"
          ],
          "name": "stdout"
        }
      ]
    },
    {
      "cell_type": "markdown",
      "metadata": {
        "id": "a0TkhOUh_Mnw"
      },
      "source": [
        "### Sonar"
      ]
    },
    {
      "cell_type": "code",
      "metadata": {
        "colab": {
          "base_uri": "https://localhost:8080/"
        },
        "id": "xLyb6nOT_OeM",
        "outputId": "ad70b178-442c-45c2-ba59-6ed1f8ba9934"
      },
      "source": [
        "accuracy = []\n",
        "d = 2\n",
        "for R in range(10):\n",
        "  Rlabel = 0\n",
        "  labels = []\n",
        "  train_ds, test_ds = getSplit(Sonar)\n",
        "  for test in test_ds.values:\n",
        "    min = 100000000\n",
        "    for train in train_ds.values:\n",
        "      sum = np.sum([ ( ((test[i] * test[i])**d) + ((train[i] * train[i])**d) - (2*((test[i] * train[i])**d))  ) for i in range(len(test_ds.columns)-1) ])\n",
        "      if sum < min:\n",
        "        Rlabel = train[-1]\n",
        "        min = sum\n",
        "    labels.append(Rlabel)\n",
        "  accuracy.append(accuracy_score(test_ds.iloc[:,-1], labels))\n",
        "print(\"\\t\\t\\tPolynomial kernel d=2 for Sonar\")\n",
        "print(\"\\t\\t\\t\\t\\t%.2f%%\" %(np.mean(accuracy)*100))"
      ],
      "execution_count": null,
      "outputs": [
        {
          "output_type": "stream",
          "text": [
            "\t\t\tPolynomial kernel d=2 for Sonar\n",
            "\t\t\t\t\t77.94%\n"
          ],
          "name": "stdout"
        }
      ]
    },
    {
      "cell_type": "markdown",
      "metadata": {
        "id": "dikvfYG4AFAS"
      },
      "source": [
        "## d = 3"
      ]
    },
    {
      "cell_type": "markdown",
      "metadata": {
        "id": "hDaDnsAJAFAS"
      },
      "source": [
        "### Glass"
      ]
    },
    {
      "cell_type": "code",
      "metadata": {
        "colab": {
          "base_uri": "https://localhost:8080/"
        },
        "id": "UGXy-bfsAFAT",
        "outputId": "8d374b65-4a86-4980-f3d8-011de4e3499a"
      },
      "source": [
        "accuracy = []\n",
        "d = 3\n",
        "for R in range(10):\n",
        "  Rlabel = 0\n",
        "  labels = []\n",
        "  train_ds, test_ds = getSplit(Glass)\n",
        "  for test in test_ds.values:\n",
        "    min = 100000000000\n",
        "    for train in train_ds.values:\n",
        "      sum = np.sum([ ( ((test[i] * test[i])**d) + ((train[i] * train[i])**d) - (2*((test[i] * train[i])**d))  ) for i in range(len(test_ds.columns)-1) ])\n",
        "      if sum < min:\n",
        "        Rlabel = train[-1]\n",
        "        min = sum\n",
        "    labels.append(Rlabel)\n",
        "  accuracy.append(accuracy_score(test_ds.iloc[:,-1], labels))\n",
        "print(\"\\t\\t\\tPolynomial kernel d=3 for Glass\")\n",
        "print(\"\\t\\t\\t\\t\\t%.2f%%\" %(np.mean(accuracy)*100))"
      ],
      "execution_count": null,
      "outputs": [
        {
          "output_type": "stream",
          "text": [
            "\t\t\tPolynomial kernel d=3 for Glass\n",
            "\t\t\t\t\t42.62%\n"
          ],
          "name": "stdout"
        }
      ]
    },
    {
      "cell_type": "markdown",
      "metadata": {
        "id": "WQjhMgYTAFAU"
      },
      "source": [
        "### Wine"
      ]
    },
    {
      "cell_type": "code",
      "metadata": {
        "colab": {
          "base_uri": "https://localhost:8080/"
        },
        "id": "x1Ycozj-AFAU",
        "outputId": "a2335021-7b34-454d-e9ab-be0814d8f923"
      },
      "source": [
        "accuracy = []\n",
        "d = 3\n",
        "for R in range(10):\n",
        "  Rlabel = 0\n",
        "  labels = []\n",
        "  train_ds, test_ds = getSplit(Wine)\n",
        "  for test in test_ds.values:\n",
        "    min = 100000000000\n",
        "    for train in train_ds.values:\n",
        "      sum = np.sum([ ( ((test[i] * test[i])**d) + ((train[i] * train[i])**d) - (2*((test[i] * train[i])**d))  ) for i in range(len(test_ds.columns)-1) ])\n",
        "      if sum < min:\n",
        "        Rlabel = train[-1]\n",
        "        min = sum\n",
        "    labels.append(Rlabel)\n",
        "  accuracy.append(accuracy_score(test_ds.iloc[:,-1], labels))\n",
        "print(\"\\t\\t\\tPolynomial kernel d=3 for Wine\")\n",
        "print(\"\\t\\t\\t\\t\\t%.2f%%\" %(np.mean(accuracy)*100))"
      ],
      "execution_count": null,
      "outputs": [
        {
          "output_type": "stream",
          "text": [
            "\t\t\tPolynomial kernel d=3 for Wine\n",
            "\t\t\t\t\t40.56%\n"
          ],
          "name": "stdout"
        }
      ]
    },
    {
      "cell_type": "markdown",
      "metadata": {
        "id": "NIbKGWMmAFAV"
      },
      "source": [
        "### Diabetes"
      ]
    },
    {
      "cell_type": "code",
      "metadata": {
        "colab": {
          "base_uri": "https://localhost:8080/"
        },
        "id": "kz-d4ryDAFAV",
        "outputId": "cb53ad9a-0f86-4d17-8b46-8226de6786a9"
      },
      "source": [
        "accuracy = []\n",
        "d = 3\n",
        "for R in range(10):\n",
        "  Rlabel = 0\n",
        "  labels = []\n",
        "  train_ds, test_ds = getSplit(Diabetes)\n",
        "  for test in test_ds.values:\n",
        "    min = 100000000000\n",
        "    for train in train_ds.values:\n",
        "      sum = np.sum([ ( ((test[i] * test[i])**d) + ((train[i] * train[i])**d) - (2*((test[i] * train[i])**d))  ) for i in range(len(test_ds.columns)-1) ])\n",
        "      if sum < min:\n",
        "        Rlabel = train[-1]\n",
        "        min = sum\n",
        "    labels.append(Rlabel)\n",
        "  accuracy.append(accuracy_score(test_ds.iloc[:,-1], labels))\n",
        "print(\"\\t\\t\\tPolynomial kernel d=3 for Diabetes\")\n",
        "print(\"\\t\\t\\t\\t\\t%.2f%%\" %(np.mean(accuracy)*100))"
      ],
      "execution_count": null,
      "outputs": [
        {
          "output_type": "stream",
          "text": [
            "\t\t\tPolynomial kernel d=3 for Diabetes\n",
            "\t\t\t\t\t67.66%\n"
          ],
          "name": "stdout"
        }
      ]
    },
    {
      "cell_type": "markdown",
      "metadata": {
        "id": "ZVg42_lbAFAW"
      },
      "source": [
        "### Ionosphere"
      ]
    },
    {
      "cell_type": "code",
      "metadata": {
        "colab": {
          "base_uri": "https://localhost:8080/"
        },
        "id": "-WRUJX0NAFAW",
        "outputId": "3319acf9-93f5-4117-d833-f64e997bd1b0"
      },
      "source": [
        "accuracy = []\n",
        "d = 3\n",
        "for R in range(10):\n",
        "  Rlabel = 0\n",
        "  labels = []\n",
        "  train_ds, test_ds = getSplit(Ionosphere)\n",
        "  for test in test_ds.values:\n",
        "    min = 100000000000\n",
        "    for train in train_ds.values:\n",
        "      sum = np.sum([ ( ((test[i] * test[i])**d) + ((train[i] * train[i])**d) - (2*((test[i] * train[i])**d))  ) for i in range(len(test_ds.columns)-1) ])\n",
        "      if sum < min:\n",
        "        Rlabel = train[-1]\n",
        "        min = sum\n",
        "    labels.append(Rlabel)\n",
        "  accuracy.append(accuracy_score(test_ds.iloc[:,-1], labels))\n",
        "print(\"\\t\\t\\tPolynomial kernel d=3 for Ionosphere\")\n",
        "print(\"\\t\\t\\t\\t%.2f%%\" %(np.mean(accuracy)*100))"
      ],
      "execution_count": null,
      "outputs": [
        {
          "output_type": "stream",
          "text": [
            "\t\t\tPolynomial kernel d=3 for Ionosphere\n",
            "\t\t\t\t83.30%\n"
          ],
          "name": "stdout"
        }
      ]
    },
    {
      "cell_type": "markdown",
      "metadata": {
        "id": "9a9eMherAFAX"
      },
      "source": [
        "### BreastTissue"
      ]
    },
    {
      "cell_type": "code",
      "metadata": {
        "colab": {
          "base_uri": "https://localhost:8080/"
        },
        "id": "grgDtmxrAFAX",
        "outputId": "378a7d8d-9d97-4825-96cc-68db7f3cdc3c"
      },
      "source": [
        "accuracy = []\n",
        "d = 3\n",
        "for R in range(10):\n",
        "  Rlabel = 0\n",
        "  labels = []\n",
        "  train_ds, test_ds = getSplit(Breast)\n",
        "  for test in test_ds.values:\n",
        "    min = 100000000000\n",
        "    for train in train_ds.values:\n",
        "      sum = np.sum([ ( ((test[i] * test[i])**d) + ((train[i] * train[i])**d) - (2*((test[i] * train[i])**d))  ) for i in range(len(test_ds.columns)-1) ])\n",
        "      if sum < min:\n",
        "        Rlabel = train[-1]\n",
        "        min = sum\n",
        "    labels.append(Rlabel)\n",
        "  accuracy.append(accuracy_score(test_ds.iloc[:,-1], labels))\n",
        "print(\"\\t\\t\\tPolynomial kernel d=3 for Breast\")\n",
        "print(\"\\t\\t\\t\\t\\t%.2f%%\" %(np.mean(accuracy)*100))"
      ],
      "execution_count": null,
      "outputs": [
        {
          "output_type": "stream",
          "text": [
            "\t\t\tPolynomial kernel d=3 for Breast\n",
            "\t\t\t\t\t4.69%\n"
          ],
          "name": "stdout"
        }
      ]
    },
    {
      "cell_type": "markdown",
      "metadata": {
        "id": "u7x4LetKAFAX"
      },
      "source": [
        "### Sonar"
      ]
    },
    {
      "cell_type": "code",
      "metadata": {
        "colab": {
          "base_uri": "https://localhost:8080/"
        },
        "id": "nu5pKNGzAFAY",
        "outputId": "b2c8d426-3635-4706-caae-d649985efb0e"
      },
      "source": [
        "accuracy = []\n",
        "d = 3\n",
        "for R in range(10):\n",
        "  Rlabel = 0\n",
        "  labels = []\n",
        "  train_ds, test_ds = getSplit(Sonar)\n",
        "  for test in test_ds.values:\n",
        "    min = 100000000000\n",
        "    for train in train_ds.values:\n",
        "      sum = np.sum([ ( ((test[i] * test[i])**d) + ((train[i] * train[i])**d) - (2*((test[i] * train[i])**d))  ) for i in range(len(test_ds.columns)-1) ])\n",
        "      if sum < min:\n",
        "        Rlabel = train[-1]\n",
        "        min = sum\n",
        "    labels.append(Rlabel)\n",
        "  accuracy.append(accuracy_score(test_ds.iloc[:,-1], labels))\n",
        "print(\"\\t\\t\\tPolynomial kernel d=3 for Sonar\")\n",
        "print(\"\\t\\t\\t\\t\\t%.2f%%\" %(np.mean(accuracy)*100))"
      ],
      "execution_count": null,
      "outputs": [
        {
          "output_type": "stream",
          "text": [
            "\t\t\tPolynomial kernel d=3 for Sonar\n",
            "\t\t\t\t\t76.51%\n"
          ],
          "name": "stdout"
        }
      ]
    },
    {
      "cell_type": "markdown",
      "metadata": {
        "id": "yHg60UqJuKPJ"
      },
      "source": [
        "# RBF Kernel"
      ]
    },
    {
      "cell_type": "markdown",
      "metadata": {
        "id": "6FcVD-XUuPfH"
      },
      "source": [
        "## Glass"
      ]
    },
    {
      "cell_type": "code",
      "metadata": {
        "id": "Ye8tdbgauR0t",
        "colab": {
          "base_uri": "https://localhost:8080/"
        },
        "outputId": "040dce10-516b-484d-c85d-523ae5ad15cf"
      },
      "source": [
        "mean_acc = []\n",
        "sigmas = [0.1, 0.2, 0.3, 0.4, 0.5, 0.6, 0.7, 0.8, 0.9, 1]\n",
        "for sigma in sigmas:\n",
        "  landa = 1/(2*(sigma**2))\n",
        "  accuracy = []\n",
        "  for R in range(10):\n",
        "    Rlabel = 0\n",
        "    labels = []\n",
        "    train_ds, test_ds = getSplit(Glass)\n",
        "    for test in test_ds.values:\n",
        "      min = 100000000000\n",
        "      for train in train_ds.values:\n",
        "        sum = np.sum([ ( np.exp(-landa*(test[i] - test[i])**2) + np.exp(-landa*(train[i] - train[i])**2) - (2*np.exp(-landa*(test[i] - train[i])**2))  ) for i in range(len(test_ds.columns)-1) ])\n",
        "        if sum < min:\n",
        "          Rlabel = train[-1]\n",
        "          min = sum\n",
        "      labels.append(Rlabel)\n",
        "    accuracy.append(accuracy_score(test_ds.iloc[:,-1], labels))\n",
        "  mean_acc.append(np.mean(accuracy))\n",
        "\n",
        "print(\"\\t\\t\\tRBF kernel for Glass & sigma=\", sigmas[np.argmax(mean_acc)])\n",
        "print(\"\\t\\t\\t\\t\\t%.2f%%\" %(mean_acc[np.argmax(mean_acc)]*100))"
      ],
      "execution_count": null,
      "outputs": [
        {
          "output_type": "stream",
          "text": [
            "\t\t\tRBF kernel for Glass & sigma= 0.5\n",
            "\t\t\t\t\t73.23%\n"
          ],
          "name": "stdout"
        }
      ]
    },
    {
      "cell_type": "markdown",
      "metadata": {
        "id": "1MPDmp3cqkC0"
      },
      "source": [
        "## Wine"
      ]
    },
    {
      "cell_type": "code",
      "metadata": {
        "colab": {
          "base_uri": "https://localhost:8080/"
        },
        "id": "SeHt9GL9qmWV",
        "outputId": "4d74330a-d080-4f6a-8b1f-55a2872d4008"
      },
      "source": [
        "mean_acc = []\n",
        "sigmas = [0.1, 0.2, 0.3, 0.4, 0.5, 0.6, 0.7, 0.8, 0.9, 1]\n",
        "for sigma in sigmas:\n",
        "  landa = 1/(2*(sigma**2))\n",
        "  accuracy = []\n",
        "  for R in range(10):\n",
        "    Rlabel = 0\n",
        "    labels = []\n",
        "    train_ds, test_ds = getSplit(Wine)\n",
        "    for test in test_ds.values:\n",
        "      min = 100000000000\n",
        "      for train in train_ds.values:\n",
        "        sum = np.sum([ ( np.exp(-landa*(test[i] - test[i])**2) + np.exp(-landa*(train[i] - train[i])**2) - (2*np.exp(-landa*(test[i] - train[i])**2))  ) for i in range(len(test_ds.columns)-1) ])\n",
        "        if sum < min:\n",
        "          Rlabel = train[-1]\n",
        "          min = sum\n",
        "      labels.append(Rlabel)\n",
        "    accuracy.append(accuracy_score(test_ds.iloc[:,-1], labels))\n",
        "  mean_acc.append(np.mean(accuracy))\n",
        "\n",
        "print(\"\\t\\t\\tRBF kernel for Wine & sigma=\", sigmas[np.argmax(mean_acc)])\n",
        "print(\"\\t\\t\\t\\t\\t%.2f%%\" %(mean_acc[np.argmax(mean_acc)]*100))"
      ],
      "execution_count": null,
      "outputs": [
        {
          "output_type": "stream",
          "text": [
            "\t\t\tRBF kernel for Wine & sigma= 0.2\n",
            "\t\t\t\t\t95.37%\n"
          ],
          "name": "stdout"
        }
      ]
    },
    {
      "cell_type": "markdown",
      "metadata": {
        "id": "xKwlXX0zqqEg"
      },
      "source": [
        "## Diabetes"
      ]
    },
    {
      "cell_type": "code",
      "metadata": {
        "colab": {
          "base_uri": "https://localhost:8080/"
        },
        "id": "uvCuHPhbqs4l",
        "outputId": "62e6a242-5a11-4eaa-d5b0-51ecb42f73ae"
      },
      "source": [
        "mean_acc = []\n",
        "sigmas = [0.1, 0.2, 0.3, 0.4, 0.5, 0.6, 0.7, 0.8, 0.9, 1]\n",
        "for sigma in sigmas:\n",
        "  landa = 1/(2*(sigma**2))\n",
        "  accuracy = []\n",
        "  for R in range(10):\n",
        "    Rlabel = 0\n",
        "    labels = []\n",
        "    train_ds, test_ds = getSplit(Diabetes)\n",
        "    for test in test_ds.values:\n",
        "      min = 100000000000\n",
        "      for train in train_ds.values:\n",
        "        sum = np.sum([ ( np.exp(-landa*(test[i] - test[i])**2) + np.exp(-landa*(train[i] - train[i])**2) - (2*np.exp(-landa*(test[i] - train[i])**2))  ) for i in range(len(test_ds.columns)-1) ])\n",
        "        if sum < min:\n",
        "          Rlabel = train[-1]\n",
        "          min = sum\n",
        "      labels.append(Rlabel)\n",
        "    accuracy.append(accuracy_score(test_ds.iloc[:,-1], labels))\n",
        "  mean_acc.append(np.mean(accuracy))\n",
        "\n",
        "print(\"\\t\\t\\tRBF kernel for Diabetes & sigma=\", sigmas[np.argmax(mean_acc)])\n",
        "print(\"\\t\\t\\t\\t\\t%.2f%%\" %(mean_acc[np.argmax(mean_acc)]*100))"
      ],
      "execution_count": null,
      "outputs": [
        {
          "output_type": "stream",
          "text": [
            "\t\t\tRBF kernel for Diabetes & sigma= 0.9\n",
            "\t\t\t\t\t70.82%\n"
          ],
          "name": "stdout"
        }
      ]
    },
    {
      "cell_type": "markdown",
      "metadata": {
        "id": "Ksktlfcuqv0V"
      },
      "source": [
        "## Ionosphere"
      ]
    },
    {
      "cell_type": "code",
      "metadata": {
        "colab": {
          "base_uri": "https://localhost:8080/"
        },
        "id": "g89I5B1VqyHf",
        "outputId": "7b5bd8ee-d781-40d1-c0ce-b3543f97165a"
      },
      "source": [
        "mean_acc = []\n",
        "sigmas = [0.1, 0.2, 0.3, 0.4, 0.5, 0.6, 0.7, 0.8, 0.9, 1]\n",
        "for sigma in sigmas:\n",
        "  landa = 1/(2*(sigma**2))\n",
        "  accuracy = []\n",
        "  for R in range(10):\n",
        "    Rlabel = 0\n",
        "    labels = []\n",
        "    train_ds, test_ds = getSplit(Ionosphere)\n",
        "    for test in test_ds.values:\n",
        "      min = 100000000000\n",
        "      for train in train_ds.values:\n",
        "        sum = np.sum([ ( np.exp(-landa*(test[i] - test[i])**2) + np.exp(-landa*(train[i] - train[i])**2) - (2*np.exp(-landa*(test[i] - train[i])**2))  ) for i in range(len(test_ds.columns)-1) ])\n",
        "        if sum < min:\n",
        "          Rlabel = train[-1]\n",
        "          min = sum\n",
        "      labels.append(Rlabel)\n",
        "    accuracy.append(accuracy_score(test_ds.iloc[:,-1], labels))\n",
        "  mean_acc.append(np.mean(accuracy))\n",
        "\n",
        "print(\"\\t\\t\\tRBF kernel for Ionosphere & sigma=\", sigmas[np.argmax(mean_acc)])\n",
        "print(\"\\t\\t\\t\\t\\t%.2f%%\" %(mean_acc[np.argmax(mean_acc)]*100))"
      ],
      "execution_count": null,
      "outputs": [
        {
          "output_type": "stream",
          "text": [
            "\t\t\tRBF kernel for Ionosphere & sigma= 0.3\n",
            "\t\t\t\t\t91.51%\n"
          ],
          "name": "stdout"
        }
      ]
    },
    {
      "cell_type": "markdown",
      "metadata": {
        "id": "Yw1NJuVZq0mU"
      },
      "source": [
        "## BreastTissue"
      ]
    },
    {
      "cell_type": "code",
      "metadata": {
        "colab": {
          "base_uri": "https://localhost:8080/"
        },
        "id": "GTGlG5T2q3HN",
        "outputId": "d4dd7058-93e1-4494-c335-a4d96fefcc20"
      },
      "source": [
        "mean_acc = []\n",
        "sigmas = [0.1, 0.2, 0.3, 0.4, 0.5, 0.6, 0.7, 0.8, 0.9, 1]\n",
        "for sigma in sigmas:\n",
        "  landa = 1/(2*(sigma**2))\n",
        "  accuracy = []\n",
        "  for R in range(10):\n",
        "    Rlabel = 0\n",
        "    labels = []\n",
        "    train_ds, test_ds = getSplit(Breast)\n",
        "    for test in test_ds.values:\n",
        "      min = 100000000000\n",
        "      for train in train_ds.values:\n",
        "        sum = np.sum([ ( np.exp(-landa*(test[i] - test[i])**2) + np.exp(-landa*(train[i] - train[i])**2) - (2*np.exp(-landa*(test[i] - train[i])**2))  ) for i in range(len(test_ds.columns)-1) ])\n",
        "        if sum < min:\n",
        "          Rlabel = train[-1]\n",
        "          min = sum\n",
        "      labels.append(Rlabel)\n",
        "    accuracy.append(accuracy_score(test_ds.iloc[:,-1], labels))\n",
        "  mean_acc.append(np.mean(accuracy))\n",
        "\n",
        "print(\"\\t\\t\\tRBF kernel for Breast & sigma=\", sigmas[np.argmax(mean_acc)])\n",
        "print(\"\\t\\t\\t\\t\\t%.2f%%\" %(mean_acc[np.argmax(mean_acc)]*100))"
      ],
      "execution_count": null,
      "outputs": [
        {
          "output_type": "stream",
          "text": [
            "\t\t\tRBF kernel for Breast & sigma= 0.6\n",
            "\t\t\t\t\t47.81%\n"
          ],
          "name": "stdout"
        }
      ]
    },
    {
      "cell_type": "markdown",
      "metadata": {
        "id": "VJVuy5K2q5GI"
      },
      "source": [
        "## Sonar"
      ]
    },
    {
      "cell_type": "code",
      "metadata": {
        "colab": {
          "base_uri": "https://localhost:8080/"
        },
        "id": "fjMVaNAHq7RQ",
        "outputId": "389a1b4a-811d-404b-f15b-f13b1a51eec0"
      },
      "source": [
        "mean_acc = []\n",
        "sigmas = [0.1, 0.2, 0.3, 0.4, 0.5, 0.6, 0.7, 0.8, 0.9, 1]\n",
        "for sigma in sigmas:\n",
        "  landa = 1/(2*(sigma**2))\n",
        "  accuracy = []\n",
        "  for R in range(10):\n",
        "    Rlabel = 0\n",
        "    labels = []\n",
        "    train_ds, test_ds = getSplit(Sonar)\n",
        "    for test in test_ds.values:\n",
        "      min = 100000000000\n",
        "      for train in train_ds.values:\n",
        "        sum = np.sum([ ( np.exp(-landa*(test[i] - test[i])**2) + np.exp(-landa*(train[i] - train[i])**2) - (2*np.exp(-landa*(test[i] - train[i])**2))  ) for i in range(len(test_ds.columns)-1) ])\n",
        "        if sum < min:\n",
        "          Rlabel = train[-1]\n",
        "          min = sum\n",
        "      labels.append(Rlabel)\n",
        "    accuracy.append(accuracy_score(test_ds.iloc[:,-1], labels))\n",
        "  mean_acc.append(np.mean(accuracy))\n",
        "\n",
        "print(\"\\t\\t\\tRBF kernel for Sonar & sigma=\", sigmas[np.argmax(mean_acc)])\n",
        "print(\"\\t\\t\\t\\t\\t%.2f%%\" %(mean_acc[np.argmax(mean_acc)]*100))"
      ],
      "execution_count": null,
      "outputs": [
        {
          "output_type": "stream",
          "text": [
            "\t\t\tRBF kernel for Sonar & sigma= 0.1\n",
            "\t\t\t\t\t85.40%\n"
          ],
          "name": "stdout"
        }
      ]
    }
  ]
}